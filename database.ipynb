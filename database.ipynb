{
 "cells": [
  {
   "cell_type": "code",
   "execution_count": 1,
   "id": "dbd2b6cf-1b5f-48d8-a6b2-b71651d8d673",
   "metadata": {},
   "outputs": [
    {
     "data": {
      "text/html": [
       "<span style=\"None\">displaylimit: Value None will be treated as 0 (no limit)</span>"
      ],
      "text/plain": [
       "displaylimit: Value None will be treated as 0 (no limit)"
      ]
     },
     "metadata": {},
     "output_type": "display_data"
    }
   ],
   "source": [
    "%load_ext sql\n",
    "%config SqlMagic.displaylimit = None"
   ]
  },
  {
   "cell_type": "code",
   "execution_count": 2,
   "id": "2690dda6-5592-4203-8936-972c9108371a",
   "metadata": {},
   "outputs": [
    {
     "data": {
      "text/html": [
       "<span style=\"None\">Connecting to &#x27;sqlite:///library.db&#x27;</span>"
      ],
      "text/plain": [
       "Connecting to 'sqlite:///library.db'"
      ]
     },
     "metadata": {},
     "output_type": "display_data"
    }
   ],
   "source": [
    "%sql sqlite:///library.db"
   ]
  },
  {
   "cell_type": "code",
   "execution_count": 3,
   "id": "1b66e0ee-0d25-4496-bc44-b38ffe175262",
   "metadata": {},
   "outputs": [
    {
     "data": {
      "text/html": [
       "<span style=\"None\">Running query in &#x27;sqlite:///library.db&#x27;</span>"
      ],
      "text/plain": [
       "Running query in 'sqlite:///library.db'"
      ]
     },
     "metadata": {},
     "output_type": "display_data"
    },
    {
     "data": {
      "text/html": [
       "<table>\n",
       "    <thead>\n",
       "        <tr>\n",
       "        </tr>\n",
       "    </thead>\n",
       "    <tbody>\n",
       "    </tbody>\n",
       "</table>"
      ],
      "text/plain": [
       "++\n",
       "||\n",
       "++\n",
       "++"
      ]
     },
     "execution_count": 3,
     "metadata": {},
     "output_type": "execute_result"
    }
   ],
   "source": [
    "%%sql\n",
    "PRAGMA foreign_keys = ON;\n"
   ]
  },
  {
   "cell_type": "code",
   "execution_count": 7,
   "id": "1b8c12ab-4da0-430e-be9d-0be84af84ce3",
   "metadata": {},
   "outputs": [
    {
     "data": {
      "text/html": [
       "<span style=\"None\">Running query in &#x27;sqlite:///library.db&#x27;</span>"
      ],
      "text/plain": [
       "Running query in 'sqlite:///library.db'"
      ]
     },
     "metadata": {},
     "output_type": "display_data"
    },
    {
     "data": {
      "text/html": [
       "<table>\n",
       "    <thead>\n",
       "        <tr>\n",
       "        </tr>\n",
       "    </thead>\n",
       "    <tbody>\n",
       "    </tbody>\n",
       "</table>"
      ],
      "text/plain": [
       "++\n",
       "||\n",
       "++\n",
       "++"
      ]
     },
     "execution_count": 7,
     "metadata": {},
     "output_type": "execute_result"
    }
   ],
   "source": [
    "%%sql\n",
    "PRAGMA foreign_keys = ON;"
   ]
  },
  {
   "cell_type": "code",
   "execution_count": null,
   "id": "d32548a9-5fb1-4f3f-965a-c210a1a2eb6f",
   "metadata": {},
   "outputs": [
    {
     "data": {
      "text/html": [
       "<span style=\"None\">Running query in &#x27;sqlite:///library.db&#x27;</span>"
      ],
      "text/plain": [
       "Running query in 'sqlite:///library.db'"
      ]
     },
     "metadata": {},
     "output_type": "display_data"
    },
    {
     "data": {
      "text/html": [
       "<table>\n",
       "    <thead>\n",
       "        <tr>\n",
       "        </tr>\n",
       "    </thead>\n",
       "    <tbody>\n",
       "    </tbody>\n",
       "</table>"
      ],
      "text/plain": [
       "++\n",
       "||\n",
       "++\n",
       "++"
      ]
     },
     "execution_count": 9,
     "metadata": {},
     "output_type": "execute_result"
    }
   ],
   "source": [
    "%%sql\n",
    "-- Main Tables\n",
    "            CREATE TABLE IF NOT EXISTS Author (\n",
    "                AuthorID INTEGER PRIMARY KEY AUTOINCREMENT,\n",
    "                FirstName TEXT NOT NULL,\n",
    "                LastName TEXT NOT NULL,\n",
    "                BirthDate DATE,\n",
    "                Nationality TEXT,\n",
    "                Website TEXT\n",
    "            );\n",
    "\n",
    "            # In the CREATE TABLE section for Item\n",
    "            CREATE TABLE IF NOT EXISTS Item (\n",
    "                ItemID INTEGER PRIMARY KEY AUTOINCREMENT,\n",
    "                Title TEXT NOT NULL,\n",
    "                PublicationDate DATE,\n",
    "                Genre TEXT,\n",
    "                Type TEXT NOT NULL CHECK (Type IN ('Print Book', 'Online Book', 'Magazine', 'Journal', 'CD', 'Record')),\n",
    "                BorrowingStatus TEXT DEFAULT 'Available' CHECK (BorrowingStatus IN ('Available', 'Borrowed')),\n",
    "                Location TEXT,\n",
    "                URL TEXT,\n",
    "                ISBN TEXT UNIQUE,\n",
    "                ReferenceOnly BOOLEAN DEFAULT 0\n",
    "            );\n",
    "\n",
    "            CREATE TABLE IF NOT EXISTS Member (\n",
    "                MemberID INTEGER PRIMARY KEY AUTOINCREMENT,\n",
    "                FirstName TEXT NOT NULL,\n",
    "                LastName TEXT NOT NULL,\n",
    "                ContactInfo TEXT NOT NULL,\n",
    "                JoinDate DATE NOT NULL DEFAULT CURRENT_DATE,\n",
    "                Status TEXT DEFAULT 'Active' CHECK (Status IN ('Active', 'Inactive'))\n",
    "            );\n",
    "\n",
    "            CREATE TABLE IF NOT EXISTS Borrowing (\n",
    "                BorrowingID INTEGER PRIMARY KEY AUTOINCREMENT,\n",
    "                MemberID INTEGER NOT NULL,\n",
    "                ItemID INTEGER NOT NULL,\n",
    "                BorrowDate DATE NOT NULL,\n",
    "                DueDate DATE NOT NULL,\n",
    "                ReturnDate DATE,\n",
    "                FineAmount REAL DEFAULT 0.0 CHECK (FineAmount >= 0),\n",
    "                FOREIGN KEY (MemberID) REFERENCES Member(MemberID) ON DELETE CASCADE,\n",
    "                FOREIGN KEY (ItemID) REFERENCES Item(ItemID) ON DELETE CASCADE\n",
    "            );\n",
    "\n",
    "            CREATE TABLE IF NOT EXISTS Donation (\n",
    "                DonationID INTEGER PRIMARY KEY AUTOINCREMENT,\n",
    "                MemberID INTEGER NOT NULL,\n",
    "                ItemID INTEGER NOT NULL,\n",
    "                DonationDate DATE NOT NULL DEFAULT CURRENT_DATE,\n",
    "                Status TEXT DEFAULT 'Pending' CHECK (Status IN ('Pending', 'Accepted', 'Rejected')),\n",
    "                FOREIGN KEY (MemberID) REFERENCES Member(MemberID) ON DELETE CASCADE,\n",
    "                FOREIGN KEY (ItemID) REFERENCES Item(ItemID) ON DELETE CASCADE\n",
    "            );\n",
    "\n",
    "            CREATE TABLE IF NOT EXISTS Staff (\n",
    "                StaffID INTEGER PRIMARY KEY AUTOINCREMENT,\n",
    "                FirstName TEXT NOT NULL,\n",
    "                LastName TEXT NOT NULL,\n",
    "                ContactInfo TEXT NOT NULL,\n",
    "                Position TEXT NOT NULL,\n",
    "                Salary REAL CHECK (Salary >= 0),\n",
    "                HireDate DATE NOT NULL DEFAULT CURRENT_DATE\n",
    "            );\n",
    "\n",
    "            CREATE TABLE IF NOT EXISTS SocialRoom (\n",
    "                SocialRoomID INTEGER PRIMARY KEY AUTOINCREMENT,\n",
    "                RoomName TEXT NOT NULL,\n",
    "                Capacity INTEGER NOT NULL CHECK (Capacity > 0)\n",
    "            );\n",
    "\n",
    "            CREATE TABLE IF NOT EXISTS Event (\n",
    "                EventID INTEGER PRIMARY KEY AUTOINCREMENT,\n",
    "                Name TEXT NOT NULL,\n",
    "                Description TEXT,\n",
    "                Date DATE NOT NULL,\n",
    "                Time TEXT NOT NULL,\n",
    "                RecommendedAudience TEXT,\n",
    "                SocialRoomID INTEGER NOT NULL,\n",
    "                FOREIGN KEY (SocialRoomID) REFERENCES SocialRoom(SocialRoomID) ON DELETE RESTRICT\n",
    "            );\n",
    "\n",
    "            CREATE TABLE IF NOT EXISTS FutureItem (\n",
    "                FutureItemID INTEGER PRIMARY KEY AUTOINCREMENT,\n",
    "                Title TEXT NOT NULL,\n",
    "                ExpectedArrivalDate DATE,\n",
    "                Status TEXT DEFAULT 'Pending' CHECK (Status IN ('Pending', 'Arrived', 'Cancelled'))\n",
    "            );\n",
    "\n",
    "            -- Junction Tables\n",
    "            CREATE TABLE IF NOT EXISTS Item_Author (\n",
    "                ItemID INTEGER NOT NULL,\n",
    "                AuthorID INTEGER NOT NULL,\n",
    "                PRIMARY KEY (ItemID, AuthorID),\n",
    "                FOREIGN KEY (ItemID) REFERENCES Item(ItemID) ON DELETE CASCADE,\n",
    "                FOREIGN KEY (AuthorID) REFERENCES Author(AuthorID) ON DELETE CASCADE\n",
    "            );\n",
    "\n",
    "            CREATE TABLE IF NOT EXISTS Author_FutureItem (\n",
    "                AuthorID INTEGER NOT NULL,\n",
    "                FutureItemID INTEGER NOT NULL,\n",
    "                PRIMARY KEY (AuthorID, FutureItemID),\n",
    "                FOREIGN KEY (AuthorID) REFERENCES Author(AuthorID) ON DELETE CASCADE,\n",
    "                FOREIGN KEY (FutureItemID) REFERENCES FutureItem(FutureItemID) ON DELETE CASCADE\n",
    "            );\n",
    "\n",
    "            CREATE TABLE IF NOT EXISTS Event_Member (\n",
    "                EventID INTEGER NOT NULL,\n",
    "                MemberID INTEGER NOT NULL,\n",
    "                RegistrationDate DATE NOT NULL,\n",
    "                PRIMARY KEY (EventID, MemberID),\n",
    "                FOREIGN KEY (EventID) REFERENCES Event(EventID) ON DELETE CASCADE,\n",
    "                FOREIGN KEY (MemberID) REFERENCES Member(MemberID) ON DELETE CASCADE\n",
    "            );\n",
    "\n",
    "            CREATE TABLE IF NOT EXISTS Event_Member_Volunteer (\n",
    "                EventID INTEGER NOT NULL,\n",
    "                MemberID INTEGER NOT NULL,\n",
    "                VolunteerRole TEXT NOT NULL,\n",
    "                VolunteerDate DATE NOT NULL,\n",
    "                PRIMARY KEY (EventID, MemberID),\n",
    "                FOREIGN KEY (EventID) REFERENCES Event(EventID) ON DELETE CASCADE,\n",
    "                FOREIGN KEY (MemberID) REFERENCES Member(MemberID) ON DELETE CASCADE\n",
    "            );\n",
    "\n",
    "            CREATE TABLE IF NOT EXISTS Event_Staff (\n",
    "                EventID INTEGER NOT NULL,\n",
    "                StaffID INTEGER NOT NULL,\n",
    "                PRIMARY KEY (EventID, StaffID),\n",
    "                FOREIGN KEY (EventID) REFERENCES Event(EventID) ON DELETE CASCADE,\n",
    "                FOREIGN KEY (StaffID) REFERENCES Staff(StaffID) ON DELETE CASCADE\n",
    "            );\n",
    "                          \n",
    "            CREATE TABLE IF NOT EXISTS Fine (\n",
    "                MemberID INTEGER PRIMARY KEY,\n",
    "                TotalFine REAL DEFAULT 0.0 CHECK (TotalFine >= 0),\n",
    "                FOREIGN KEY (MemberID) REFERENCES Member(MemberID) ON DELETE CASCADE\n",
    "            );\n",
    "\n",
    "            -- Triggers\n",
    "            CREATE TRIGGER IF NOT EXISTS UpdateBorrowingStatusOnBorrow\n",
    "            AFTER INSERT ON Borrowing\n",
    "            FOR EACH ROW\n",
    "            WHEN NEW.ReturnDate IS NULL\n",
    "            BEGIN\n",
    "                UPDATE Item\n",
    "                SET BorrowingStatus = 'Borrowed'\n",
    "                WHERE ItemID = NEW.ItemID;\n",
    "            END;\n",
    "\n",
    "            CREATE TRIGGER IF NOT EXISTS UpdateBorrowingStatusOnReturn\n",
    "            AFTER UPDATE OF ReturnDate ON Borrowing\n",
    "            FOR EACH ROW\n",
    "            WHEN NEW.ReturnDate IS NOT NULL AND OLD.ReturnDate IS NULL\n",
    "            BEGIN\n",
    "                UPDATE Item\n",
    "                SET BorrowingStatus = 'Available'\n",
    "                WHERE ItemID = NEW.ItemID;\n",
    "            END;\n",
    "\n",
    "            CREATE TRIGGER IF NOT EXISTS CalculateFineOnReturn\n",
    "            AFTER UPDATE OF ReturnDate ON Borrowing\n",
    "            FOR EACH ROW\n",
    "            WHEN NEW.ReturnDate IS NOT NULL AND NEW.ReturnDate > NEW.DueDate\n",
    "            BEGIN\n",
    "                UPDATE Borrowing\n",
    "                SET FineAmount = (JULIANDAY(NEW.ReturnDate) - JULIANDAY(NEW.DueDate)) * 0.50\n",
    "                WHERE BorrowingID = NEW.BorrowingID;\n",
    "\n",
    "                INSERT INTO Fine (MemberID, TotalFine)\n",
    "                VALUES (NEW.MemberID, (JULIANDAY(NEW.ReturnDate) - JULIANDAY(NEW.DueDate)) * 0.50)\n",
    "                ON CONFLICT(MemberID)\n",
    "                DO UPDATE SET TotalFine = TotalFine + (JULIANDAY(NEW.ReturnDate) - JULIANDAY(NEW.DueDate)) * 0.50;\n",
    "            END;\n"
   ]
  },
  {
   "cell_type": "code",
   "execution_count": null,
   "id": "be8376a8-3cc1-44d4-aaed-44d251e828f1",
   "metadata": {
    "scrolled": true
   },
   "outputs": [
    {
     "data": {
      "text/html": [
       "<span style=\"None\">Running query in &#x27;sqlite:///library.db&#x27;</span>"
      ],
      "text/plain": [
       "Running query in 'sqlite:///library.db'"
      ]
     },
     "metadata": {},
     "output_type": "display_data"
    },
    {
     "data": {
      "text/html": [
       "<span style=\"color: green\">15 rows affected.</span>"
      ],
      "text/plain": [
       "15 rows affected."
      ]
     },
     "metadata": {},
     "output_type": "display_data"
    },
    {
     "data": {
      "text/html": [
       "<span style=\"color: green\">15 rows affected.</span>"
      ],
      "text/plain": [
       "15 rows affected."
      ]
     },
     "metadata": {},
     "output_type": "display_data"
    },
    {
     "data": {
      "text/html": [
       "<span style=\"color: green\">15 rows affected.</span>"
      ],
      "text/plain": [
       "15 rows affected."
      ]
     },
     "metadata": {},
     "output_type": "display_data"
    },
    {
     "data": {
      "text/html": [
       "<span style=\"color: green\">15 rows affected.</span>"
      ],
      "text/plain": [
       "15 rows affected."
      ]
     },
     "metadata": {},
     "output_type": "display_data"
    },
    {
     "data": {
      "text/html": [
       "<span style=\"color: green\">15 rows affected.</span>"
      ],
      "text/plain": [
       "15 rows affected."
      ]
     },
     "metadata": {},
     "output_type": "display_data"
    },
    {
     "data": {
      "text/html": [
       "<span style=\"color: green\">15 rows affected.</span>"
      ],
      "text/plain": [
       "15 rows affected."
      ]
     },
     "metadata": {},
     "output_type": "display_data"
    },
    {
     "data": {
      "text/html": [
       "<span style=\"color: green\">15 rows affected.</span>"
      ],
      "text/plain": [
       "15 rows affected."
      ]
     },
     "metadata": {},
     "output_type": "display_data"
    },
    {
     "data": {
      "text/html": [
       "<span style=\"color: green\">15 rows affected.</span>"
      ],
      "text/plain": [
       "15 rows affected."
      ]
     },
     "metadata": {},
     "output_type": "display_data"
    },
    {
     "data": {
      "text/html": [
       "<span style=\"color: green\">15 rows affected.</span>"
      ],
      "text/plain": [
       "15 rows affected."
      ]
     },
     "metadata": {},
     "output_type": "display_data"
    },
    {
     "data": {
      "text/html": [
       "<span style=\"color: green\">15 rows affected.</span>"
      ],
      "text/plain": [
       "15 rows affected."
      ]
     },
     "metadata": {},
     "output_type": "display_data"
    },
    {
     "data": {
      "text/html": [
       "<span style=\"color: green\">15 rows affected.</span>"
      ],
      "text/plain": [
       "15 rows affected."
      ]
     },
     "metadata": {},
     "output_type": "display_data"
    },
    {
     "data": {
      "text/html": [
       "<span style=\"color: green\">15 rows affected.</span>"
      ],
      "text/plain": [
       "15 rows affected."
      ]
     },
     "metadata": {},
     "output_type": "display_data"
    },
    {
     "data": {
      "text/html": [
       "<span style=\"color: green\">15 rows affected.</span>"
      ],
      "text/plain": [
       "15 rows affected."
      ]
     },
     "metadata": {},
     "output_type": "display_data"
    },
    {
     "data": {
      "text/html": [
       "<span style=\"color: green\">15 rows affected.</span>"
      ],
      "text/plain": [
       "15 rows affected."
      ]
     },
     "metadata": {},
     "output_type": "display_data"
    },
    {
     "data": {
      "text/html": [
       "<table>\n",
       "    <thead>\n",
       "        <tr>\n",
       "        </tr>\n",
       "    </thead>\n",
       "    <tbody>\n",
       "    </tbody>\n",
       "</table>"
      ],
      "text/plain": [
       "++\n",
       "||\n",
       "++\n",
       "++"
      ]
     },
     "execution_count": 11,
     "metadata": {},
     "output_type": "execute_result"
    }
   ],
   "source": [
    "%%sql\n",
    "-- Author\n",
    "INSERT INTO Author (FirstName, LastName, BirthDate, Nationality, Website) VALUES\n",
    "('Jane', 'Austen', '1775-12-16', 'British', NULL),\n",
    "('George', 'Orwell', '1903-06-25', 'British', NULL),\n",
    "('J.K.', 'Rowling', '1965-07-31', 'British', 'www.jkrowling.com'),\n",
    "('Stephen', 'King', '1947-09-21', 'American', 'www.stephenking.com'),\n",
    "('Agatha', 'Christie', '1890-09-15', 'British', NULL),\n",
    "('Mark',' Twain', '1835-11-30', 'American', NULL),\n",
    "('Toni', 'Morrison', '1931-02-18', 'American', NULL),\n",
    "('Haruki', 'Murakami', '1949-01-12', 'Japanese', 'www.harukimurakami.com'),\n",
    "('Gabriel García', 'Márquez', '1927-03-06', 'Colombian', NULL),\n",
    "('Chimamanda Ngozi', 'Adichie', '1977-09-15', 'Nigerian', 'www.chimamanda.com'),\n",
    "('Neil', 'Gaiman', '1960-11-10', 'British', 'www.neilgaiman.com'),\n",
    "('Margaret' ,'Atwood', '1939-11-18', 'Canadian', 'www.margaretatwood.ca'),\n",
    "('Brandon', 'Sanderson', '1975-12-19', 'American', 'www.brandonsanderson.com'),\n",
    "('Yuval Noah', 'Harari', '1976-02-24', 'Israeli', 'www.ynharari.com'),\n",
    "('Isabel', 'Allende', '1942-08-02', 'Chilean', 'www.isabelallende.com');\n",
    "\n",
    "-- Item\n",
    "# In the INSERT INTO Item section\n",
    "INSERT INTO Item (Title, PublicationDate, Genre, Type, BorrowingStatus, Location, URL, ISBN, ReferenceOnly) VALUES\n",
    "('Pride and Prejudice', '1813-01-28', 'Romance', 'Print Book', 'Available', 'Shelf A1', NULL, '9080141439518', 0),\n",
    "('1984', '1949-06-08', 'Dystopia', 'Print Book', 'Available', 'Shelf B2', NULL, '9780451520935', 0),\n",
    "('Harry Potter and the Sorcerer''s Stone', '1997-06-26', 'Fantasy', 'Print Book', 'Borrowed', 'Shelf C3', NULL, '9480590353427', 0),\n",
    "('The Shining', '1977-01-28', 'Horror', 'Print Book', 'Available', 'Shelf D4', NULL, '9780385021675', 0),\n",
    "('Murder on the Orient Express', '1934-01-01', 'Mystery', 'Print Book', 'Available', 'Shelf E5', NULL, '9780062093662', 0),\n",
    "('Science Weekly', '2025-03-01', 'Science', 'Magazine', 'Available', 'Rack M1', NULL, NULL, 1), -- Reference-only magazine\n",
    "('Jazz Classics', '1990-05-15', 'Music', 'CD', 'Available', 'Rack CD1', NULL, NULL, 0),\n",
    "('Norwegian Wood', '1987-08-04', 'Fiction', 'Online Book', 'Available', NULL, 'http://example.com/nw', NULL, 0),\n",
    "('One Hundred Years of Solitude', '1967-05-30', 'Magical Realism', 'Print Book', 'Borrowed', 'Shelf F6', NULL, '9700060883287', 0),\n",
    "('Americanah', '2013-05-14', 'Fiction', 'Print Book', 'Available', 'Shelf G7', NULL, '9780307055925', 0),\n",
    "('American Gods', '2001-06-19', 'Fantasy', 'Print Book', 'Available', 'Shelf H1', NULL, '9780060058123', 0),\n",
    "('The Handmaid''s Tale', '1985-08-17', 'Dystopian', 'Print Book', 'Available', 'Shelf H2', NULL, '9780385490818', 0),\n",
    "('Mistborn', '2006-07-17', 'Fantasy', 'Print Book', 'Available', 'Shelf H3', NULL, '9780765311708', 0),\n",
    "('Sapiens: A Brief History of Humankind', '2011-01-01', 'History', 'Print Book', 'Available', 'Shelf H4', NULL, '9780042316097', 1), -- Reference-only book\n",
    "('The House of the Spirits', '1982-03-01', 'Magical Realism', 'Print Book', 'Available', 'Shelf H5', NULL, '9780753383805', 0);\n",
    "\n",
    "-- Member\n",
    "INSERT INTO Member (FirstName, LastName, ContactInfo, JoinDate, Status) VALUES\n",
    "('Alice', 'Smith', 'alice@example.com', '2023-01-15', 'Active'),\n",
    "('Bob', 'Johnson', 'bob@example.com', '2023-02-20', 'Active'),\n",
    "('Clara', 'Lee', 'clara@example.com', '2023-03-10', 'Inactive'),\n",
    "('David', 'Kim', 'david@example.com', '2023-04-05', 'Active'),\n",
    "('Emma', 'Brown', 'emma@example.com', '2023-05-12', 'Active'),\n",
    "('Frank', 'White', 'frank@example.com', '2023-06-18', 'Active'),\n",
    "('Grace', 'Chen', 'grace@example.com', '2023-07-22', 'Active'),\n",
    "('Henry', 'Davis', 'henry@example.com', '2023-08-30', 'Active'),\n",
    "('Isabel', 'Garcia', 'isabel@example.com', '2023-09-15', 'Active'),\n",
    "('James', 'Patel', 'james@example.com', '2023-10-01', 'Active'),\n",
    "('Natalie', 'Reed', 'natalie@example.com', '2023-11-01', 'Active'),\n",
    "('Carlos', 'Mendez', 'carlos@example.com', '2023-11-02', 'Active'),\n",
    "('Luna', 'Zhao', 'luna@example.com', '2023-11-03', 'Active'),\n",
    "('Victor', 'O''Brien', 'victor@example.com', '2023-11-04', 'Active'),\n",
    "('Nina', 'Dubois', 'nina@example.com', '2023-11-05', 'Active');\n",
    "\n",
    "-- Borrowing\n",
    "INSERT INTO Borrowing (MemberID, ItemID, BorrowDate, DueDate, ReturnDate, FineAmount) VALUES\n",
    "(1, 3, '2025-03-01', '2025-03-15', NULL, 0.0), -- Harry Potter borrowed\n",
    "(2, 9, '2025-03-05', '2025-03-19', NULL, 0.0), -- One Hundred Years borrowed\n",
    "(3, 1, '2025-02-10', '2025-02-24', '2025-03-01', 3.5), -- Pride and Prejudice returned late\n",
    "(4, 2, '2025-03-10', '2025-03-24', '2025-03-20', 0.0), -- 1984 returned on time\n",
    "(5, 4, '2025-03-12', '2025-03-26', NULL, 0.0), -- The Shining borrowed\n",
    "(6, 5, '2025-03-15', '2025-03-29', NULL, 0.0), -- Murder on the Orient Express borrowed\n",
    "(7, 6, '2025-03-18', '2025-04-01', NULL, 0.0), -- Science Weekly borrowed\n",
    "(8, 7, '2025-03-20', '2025-04-03', NULL, 0.0), -- Jazz Classics borrowed\n",
    "(9, 8, '2025-03-22', '2025-04-05', NULL, 0.0), -- Norwegian Wood borrowed\n",
    "(10, 10, '2025-03-23', '2025-04-06', NULL, 0.0), -- Americanah borrowed\n",
    "(11, 11, '2025-04-02', '2025-04-16', NULL, 0.0), -- American Gods borrowed by Natalie Reed,\n",
    "(12, 12, '2025-04-02', '2025-04-16', NULL, 0.0), -- The Handmaid's Tale borrowed by Carlos Mendez,\n",
    "(13, 13, '2025-04-02', '2025-04-16', NULL, 0.0), -- Mistborn borrowed by Luna Zhao,\n",
    "(14, 14, '2025-04-02', '2025-04-16', NULL, 0.0), -- Sapiens borrowed by Victor O'Brien,\n",
    "(15, 15, '2025-04-02', '2025-04-16', NULL, 0.0); -- The House of the Spirits borrowed by Nina Dubois;\n",
    "\n",
    "\n",
    "-- Donation\n",
    "INSERT INTO Donation (MemberID, ItemID, DonationDate, Status) VALUES\n",
    "(1, 1, '2025-01-10', 'Accepted'),\n",
    "(2, 2, '2025-01-15', 'Accepted'),\n",
    "(3, 3, '2025-01-20', 'Accepted'),\n",
    "(4, 4, '2025-01-25', 'Accepted'),\n",
    "(5, 5, '2025-02-01', 'Accepted'),\n",
    "(6, 6, '2025-02-05', 'Accepted'),\n",
    "(7, 7, '2025-02-10', 'Accepted'),\n",
    "(8, 8, '2025-02-15', 'Accepted'),\n",
    "(9, 9, '2025-02-20', 'Accepted'),\n",
    "(10, 10, '2025-02-25', 'Accepted'),\n",
    "(11, 11, '2025-04-02', 'Accepted'),\n",
    "(12, 12, '2025-04-02', 'Accepted'),\n",
    "(13, 13, '2025-04-02', 'Accepted'),\n",
    "(14, 14, '2025-04-02', 'Accepted'),\n",
    "(15, 15, '2025-04-02', 'Accepted');\n",
    "\n",
    "-- Staff\n",
    "INSERT INTO Staff (FirstName, LastName, ContactInfo, Position, Salary, HireDate) VALUES\n",
    "('Liam', 'Carter', 'liam@example.com', 'Librarian', 50000, '2020-01-01'),\n",
    "('Olivia', 'Nguyen', 'olivia@example.com', 'Assistant Librarian', 40000, '2021-03-15'),\n",
    "('Noah', 'Patel', 'noah@example.com', 'Event Coordinator', 45000, '2022-05-10'),\n",
    "('Sophia', 'Kim', 'sophia@example.com', 'Clerk', 35000, '2023-07-20'),\n",
    "('Ethan', 'Brown', 'ethan@example.com', 'IT Specialist', 55000, '2021-09-01'),\n",
    "('Ava', 'Lopez', 'ava@example.com', 'Librarian', 52000, '2020-11-15'),\n",
    "('Mason', 'Lee', 'mason@example.com', 'Clerk', 34000, '2023-02-28'),\n",
    "('Isabella', 'Wang', 'isabella@example.com', 'Assistant Librarian', 41000, '2022-04-10'),\n",
    "('Lucas', 'Green', 'lucas@example.com', 'Security', 38000, '2021-06-15'),\n",
    "('Mia', 'Adams', 'mia@example.com', 'Event Coordinator', 46000, '2023-08-05'),\n",
    "('Amelia', 'Stone', 'amelia@library.com', 'Archivist', 48000, '2024-01-15'),\n",
    "('Leo', 'Martinez', 'leo@library.com', 'IT Assistant', 42000, '2024-02-10'),\n",
    "('Nora', 'Black', 'nora@library.com', 'Librarian', 53000, '2023-12-05'),\n",
    "('Omar', 'Hussein', 'omar@library.com', 'Security', 39000, '2024-03-01'),\n",
    "('Jade', 'Nguyen', 'jade@library.com', 'Event Manager', 51000, '2024-01-25');\n",
    "\n",
    "-- SocialRoom\n",
    "INSERT INTO SocialRoom (RoomName, Capacity) VALUES\n",
    "('Reading Room A', 30),\n",
    "('Media Room B', 20),\n",
    "('Event Hall C', 50),\n",
    "('Study Room D', 15),\n",
    "('Art Gallery E', 40),\n",
    "('Conference Room F', 25),\n",
    "('Music Room G', 20),\n",
    "('Film Room H', 35),\n",
    "('Book Club Room I', 15),\n",
    "('Workshop Room J', 30),\n",
    "('Quiet Study Zone', 12),\n",
    "('Digital Lab', 18),\n",
    "('Lecture Hall Z', 60),\n",
    "('Reading Nook', 10),\n",
    "('Creative Writing Room', 20);\n",
    "\n",
    "-- Event\n",
    "INSERT INTO Event (Name, Description, Date, Time, RecommendedAudience, SocialRoomID) VALUES\n",
    "('Book Club: Classics', 'Discussing Pride and Prejudice', '2025-04-01', '18:00', 'Adults', 1),\n",
    "('Film Screening: 1984', 'Movie adaptation', '2025-04-05', '19:00', 'Teens and Adults', 8),\n",
    "('Art Show: Local Artists', 'Exhibit of local art', '2025-04-10', '14:00', 'All Ages', 5),\n",
    "('Science Talk', 'Latest discoveries', '2025-04-15', '17:00', 'Adults', 6),\n",
    "('Kids Story Time', 'Reading Harry Potter', '2025-04-20', '10:00', 'Children', 4),\n",
    "('Music Night', 'Jazz classics', '2025-04-25', '20:00', 'Adults', 7),\n",
    "('Writing Workshop', 'Creative writing tips', '2025-04-30', '15:00', 'Teens and Adults', 10),\n",
    "('Mystery Book Club', 'Agatha Christie focus', '2025-05-05', '18:30', 'Adults', 9),\n",
    "('Tech Seminar', 'Digital libraries', '2025-05-10', '13:00', 'Adults', 3),\n",
    "('Poetry Reading', 'Local poets', '2025-05-15', '19:00', 'All Ages', 2),\n",
    "('Meet the Author: Neil Gaiman', 'Q&A with Neil Gaiman', '2025-06-01', '17:00', 'Adults', 11),\n",
    "('Dystopia Discussion', 'Exploring The Handmaid''s Tale', '2025-06-05', '18:30', 'Teens and Adults', 12),\n",
    "('History Unplugged', 'Lecture on Sapiens by Harari', '2025-06-10', '16:00', 'Adults', 13),\n",
    "('Fantasy Writers Panel', 'Panel with fantasy authors', '2025-06-15', '14:00', 'All Ages', 14),\n",
    "('Magical Realism Workshop', 'Guided writing based on Allende', '2025-06-20', '11:00', 'Adults', 15);\n",
    "\n",
    "\n",
    "-- FutureItem\n",
    "INSERT INTO FutureItem (Title, ExpectedArrivalDate, Status) VALUES\n",
    "('The Testaments', '2025-06-01', 'Pending'),\n",
    "('Dune Messiah', '2025-06-15', 'Pending'),\n",
    "('The Overstory', '2025-07-01', 'Pending'),\n",
    "('Circe', '2025-07-15', 'Pending'),\n",
    "('Klara and the Sun', '2025-08-01', 'Pending'),\n",
    "('Project Hail Mary', '2025-08-15', 'Pending'),\n",
    "('The Midnight Library', '2025-09-01', 'Pending'),\n",
    "('Anxious People', '2025-09-15', 'Pending'),\n",
    "('The Invisible Life of Addie LaRue', '2025-10-01', 'Pending'),\n",
    "('Cloud Cuckoo Land', '2025-10-15', 'Pending'),\n",
    "('The Ocean at the End of the Lane', '2025-11-01', 'Pending'),\n",
    "('Oryx and Crake', '2025-11-15', 'Pending'),\n",
    "('The Way of Kings', '2025-12-01', 'Pending'),\n",
    "('Homo Deus', '2025-12-15', 'Pending'),\n",
    "('Paula', '2026-01-01', 'Pending');\n",
    "\n",
    "-- Item_Author\n",
    "INSERT INTO Item_Author (ItemID, AuthorID) VALUES\n",
    "(1, 1), -- Pride and Prejudice by Jane Austen\n",
    "(2, 2), -- 1984 by George Orwell\n",
    "(3, 3), -- Harry Potter by J.K. Rowling\n",
    "(4, 4), -- The Shining by Stephen King\n",
    "(5, 5), -- Murder on the Orient Express by Agatha Christie\n",
    "(8, 8), -- Norwegian Wood by Haruki Murakami\n",
    "(9, 9), -- One Hundred Years by Gabriel García Márquez\n",
    "(10, 10), -- Americanah by Chimamanda Ngozi Adichie\n",
    "(6, 7), -- Science Weekly by Toni Morrison (fictional)\n",
    "(7, 6), -- Jazz Classics by Mark Twain (fictional)\n",
    "(11, 11), -- American Gods by Neil Gaiman,\n",
    "(12, 12), -- The Handmaid's Tale by Margaret Atwood,\n",
    "(13, 13), -- Mistborn by Brandon Sanderson,\n",
    "(14, 14), -- Sapiens: A Brief History of Humankind by Yuval Noah Harari,\n",
    "(15, 15); -- The House of the Spirits by Isabel Allende;\n",
    "\n",
    "-- Author_FutureItem\n",
    "INSERT INTO Author_FutureItem (AuthorID, FutureItemID) VALUES\n",
    "(3, 1), -- J.K. Rowling - The Testaments\n",
    "(2, 2), -- George Orwell - Dune Messiah\n",
    "(4, 3), -- Stephen King - The Overstory\n",
    "(8, 4), -- Haruki Murakami - Circe\n",
    "(10, 5), -- Chimamanda Ngozi Adichie - Klara and the Sun\n",
    "(1, 6), -- Jane Austen - Project Hail Mary\n",
    "(5, 7), -- Agatha Christie - The Midnight Library\n",
    "(6, 8), -- Mark Twain - Anxious People\n",
    "(7, 9), -- Toni Morrison - The Invisible Life\n",
    "(9, 10), -- Gabriel García Márquez - Cloud Cuckoo Land\n",
    "(11, 11), -- Neil Gaiman - The Ocean at the End of the Lane,\n",
    "(12, 12), -- Margaret Atwood - Oryx and Crake,\n",
    "(13, 13), -- Brandon Sanderson - The Way of Kings,\n",
    "(14, 14), -- Yuval Noah Harari - Homo Deus,\n",
    "(15, 15); -- Isabel Allende - Paula;\n",
    "\n",
    "-- Event_Member\n",
    "INSERT INTO Event_Member (EventID, MemberID, RegistrationDate) VALUES\n",
    "(1, 1, '2025-03-20'),\n",
    "(1, 2, '2025-03-21'),\n",
    "(2, 3, '2025-03-22'),\n",
    "(3, 4, '2025-03-23'),\n",
    "(4, 5, '2025-03-24'),\n",
    "(5, 6, '2025-03-25'),\n",
    "(6, 7, '2025-03-26'),\n",
    "(7, 8, '2025-03-27'),\n",
    "(8, 9, '2025-03-28'),\n",
    "(9, 10, '2025-03-29'),\n",
    "(11, 11, '2025-04-02'), \n",
    "(12, 12, '2025-04-02'), \n",
    "(13, 13, '2025-04-02'), \n",
    "(14, 14, '2025-04-02'), \n",
    "(15, 15, '2025-04-02');\n",
    "\n",
    "-- Event_Member_Volunteer\n",
    "INSERT INTO Event_Member_Volunteer (EventID, MemberID, VolunteerRole, VolunteerDate) VALUES\n",
    "(1, 3, 'Moderator', '2025-04-01'),\n",
    "(2, 4, 'Usher', '2025-04-05'),\n",
    "(3, 5, 'Setup Crew', '2025-04-10'),\n",
    "(4, 6, 'Speaker Assistant', '2025-04-15'),\n",
    "(5, 7, 'Reader', '2025-04-20'),\n",
    "(6, 8, 'Sound Tech', '2025-04-25'),\n",
    "(7, 9, 'Facilitator', '2025-04-30'),\n",
    "(8, 10, 'Moderator', '2025-05-05'),\n",
    "(9, 1, 'Tech Support', '2025-05-10'),\n",
    "(10, 2, 'Greeter', '2025-05-15'),\n",
    "(11, 11, 'Host', '2025-04-02'), -- Member 11 volunteered as Host for Event 11,\n",
    "(12, 12, 'Speaker', '2025-04-02'), -- Member 12 volunteered as Speaker for Event 12,\n",
    "(13, 13, 'Greeter', '2025-04-02'), -- Member 13 volunteered as Greeter for Event 13,\n",
    "(14, 14, 'Tech Assistant', '2025-04-02'), -- Member 14 volunteered as Tech Assistant for Event 14,\n",
    "(15, 15, 'Photographer', '2025-04-02'); -- Member 15 volunteered as Photographer for Event 15;\n",
    "\n",
    "-- Event_Staff\n",
    "INSERT INTO Event_Staff (EventID, StaffID) VALUES\n",
    "(1, 1),\n",
    "(2, 2),\n",
    "(3, 3),\n",
    "(4, 4),\n",
    "(5, 5),\n",
    "(6, 6),\n",
    "(7, 7),\n",
    "(8, 8),\n",
    "(9, 9),\n",
    "(10, 10),\n",
    "(11, 11),\n",
    "(12, 12), \n",
    "(13, 13), \n",
    "(14, 14), \n",
    "(15, 15); \n"
   ]
  },
  {
   "cell_type": "code",
   "execution_count": null,
   "id": "e4bac5b9-6e6c-4fb8-a8cb-f41f0840548e",
   "metadata": {},
   "outputs": [],
   "source": []
  },
  {
   "cell_type": "code",
   "execution_count": null,
   "id": "045b6144-83c0-426b-ad9d-7007ece32b9a",
   "metadata": {},
   "outputs": [],
   "source": []
  },
  {
   "cell_type": "code",
   "execution_count": null,
   "id": "728ebfa2-fe60-4dd0-9305-a2b355e961f6",
   "metadata": {},
   "outputs": [],
   "source": []
  },
  {
   "cell_type": "code",
   "execution_count": null,
   "id": "cd282ae4-83dd-4d8a-8c76-bc1182332d5c",
   "metadata": {},
   "outputs": [],
   "source": []
  }
 ],
 "metadata": {
  "kernelspec": {
   "display_name": "Python [conda env:base] *",
   "language": "python",
   "name": "conda-base-py"
  },
  "language_info": {
   "codemirror_mode": {
    "name": "ipython",
    "version": 3
   },
   "file_extension": ".py",
   "mimetype": "text/x-python",
   "name": "python",
   "nbconvert_exporter": "python",
   "pygments_lexer": "ipython3",
   "version": "3.12.3"
  }
 },
 "nbformat": 4,
 "nbformat_minor": 5
}
